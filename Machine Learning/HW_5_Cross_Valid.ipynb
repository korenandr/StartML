{
 "cells": [
  {
   "cell_type": "markdown",
   "id": "6d2c82e2",
   "metadata": {},
   "source": [
    "К текущему моменту мы научились обучать простейшую линейную регрессию: причем научились пользоваться как готовыми методами из sklearn, так и реализовывать поиск решения оптимальных коэффициентов самостоятельно с помощью градиентного спуска.\n",
    "\n",
    "На последних занятиях мы узнали, что на практике часто приходится прибегать к некоторым хитростям, чтобы оценить, действительно ли модель отлично справляется со своей главной задачей - делать хорошие предсказания на новых данных в будущем, или, как еще говорят, в проде - после запуска.\n",
    "\n",
    "Для этого было введено понятие так называемой обобщающей способности модели. Оно помогает нам оценить, насколько наша модель подогналась под увиденные данные и насколько она окажется хороша на новых данных.\n",
    "\n",
    "Обобщающую способность мы научились оценивать с помощью метода Кросс-Валидации.\n",
    "\n"
   ]
  },
  {
   "cell_type": "markdown",
   "id": "0a2e5e36",
   "metadata": {},
   "source": [
    "Построим для старой задачи с предсказанием длительности поездки в такси 2 модели линейной регрессии. Для каждой из них замерим качество на кросс-валидации и на тесте, заранее его отложив.\n",
    "\n",
    "Считается, что если для K-Fold Кросс-Валидации брать большие значения K (то есть большое количество сплитов для разбиения тренировочной выборки на тренировку-валидацию), то оценка среднеквадратической ошибки будет получаться более справедливой. Так, например, когда K оказывается максимальным, а именно равным количеству объектов в выборке (каждый раз в валидации у нас 1 новый объект), то такой метод Кросс-Валидации еще называют LeaveOneOut.\n",
    "\n",
    "Главная причина, почему мало где его используют, состоит в дороговизне такого метода. Например, в данной задаче в TAXI_train.csv лежит почти 1,2 млн. объектов. Тогда, чтобы замерить качество на LeaveOneOut валидации, нам пришлось бы обучить 1,2 млн. различных версий одной модели, что, конечно, не вписыватеся в рамки адекватного времени и прочих ресурсов.\n",
    "\n",
    "Поэтому выберем компромиссное значение в виде 20 фолдов для K-Fold Кросс-Валидации.\n",
    "\n",
    "Внимание! Для каждой из 2 моделей очевидно было бы справедливым замерять качество на тех же самых объектах, поэтому сплиты лучше зафиксировать сразу.\n",
    "\n",
    "P.S. Оптимизировать будем MSLE метрику. И сравнивать модели тоже будем по ней будем. Как из домашнего задания про метрики, только без корня! :)\n",
    "\n",
    "$$\\text{MSLE}(X, y, a) = \\frac{1}{\\ell}\\sum_{i=1}^{\\ell} \\big(\\log{(y_i + 1)} - \\log{(a(x_i) + 1)}\\big)^2$$\n"
   ]
  },
  {
   "cell_type": "markdown",
   "id": "f1c03e76",
   "metadata": {},
   "source": [
    "### Модель №1 Для начала посчитаем ошибку на Кросс-Валидации и Тесте для нашей самой базовой модели до вычленения каких-либо признаков, а просто взяв все вещественные колонки."
   ]
  },
  {
   "cell_type": "code",
   "execution_count": 1,
   "id": "1b9862d7",
   "metadata": {},
   "outputs": [],
   "source": [
    "import pandas as pd"
   ]
  },
  {
   "cell_type": "code",
   "execution_count": 2,
   "id": "74578b3e",
   "metadata": {},
   "outputs": [
    {
     "data": {
      "text/html": [
       "<div>\n",
       "<style scoped>\n",
       "    .dataframe tbody tr th:only-of-type {\n",
       "        vertical-align: middle;\n",
       "    }\n",
       "\n",
       "    .dataframe tbody tr th {\n",
       "        vertical-align: top;\n",
       "    }\n",
       "\n",
       "    .dataframe thead th {\n",
       "        text-align: right;\n",
       "    }\n",
       "</style>\n",
       "<table border=\"1\" class=\"dataframe\">\n",
       "  <thead>\n",
       "    <tr style=\"text-align: right;\">\n",
       "      <th></th>\n",
       "      <th>vendor_id</th>\n",
       "      <th>pickup_datetime</th>\n",
       "      <th>passenger_count</th>\n",
       "      <th>pickup_longitude</th>\n",
       "      <th>pickup_latitude</th>\n",
       "      <th>dropoff_longitude</th>\n",
       "      <th>dropoff_latitude</th>\n",
       "      <th>store_and_fwd_flag</th>\n",
       "      <th>trip_duration</th>\n",
       "    </tr>\n",
       "    <tr>\n",
       "      <th>id</th>\n",
       "      <th></th>\n",
       "      <th></th>\n",
       "      <th></th>\n",
       "      <th></th>\n",
       "      <th></th>\n",
       "      <th></th>\n",
       "      <th></th>\n",
       "      <th></th>\n",
       "      <th></th>\n",
       "    </tr>\n",
       "  </thead>\n",
       "  <tbody>\n",
       "    <tr>\n",
       "      <th>id2875421</th>\n",
       "      <td>2</td>\n",
       "      <td>2016-03-14 17:24:55</td>\n",
       "      <td>1</td>\n",
       "      <td>-73.982155</td>\n",
       "      <td>40.767937</td>\n",
       "      <td>-73.964630</td>\n",
       "      <td>40.765602</td>\n",
       "      <td>N</td>\n",
       "      <td>455.0</td>\n",
       "    </tr>\n",
       "    <tr>\n",
       "      <th>id2377394</th>\n",
       "      <td>1</td>\n",
       "      <td>2016-06-12 00:43:35</td>\n",
       "      <td>1</td>\n",
       "      <td>-73.980415</td>\n",
       "      <td>40.738564</td>\n",
       "      <td>-73.999481</td>\n",
       "      <td>40.731152</td>\n",
       "      <td>N</td>\n",
       "      <td>663.0</td>\n",
       "    </tr>\n",
       "    <tr>\n",
       "      <th>id3858529</th>\n",
       "      <td>2</td>\n",
       "      <td>2016-01-19 11:35:24</td>\n",
       "      <td>1</td>\n",
       "      <td>-73.979027</td>\n",
       "      <td>40.763939</td>\n",
       "      <td>-74.005333</td>\n",
       "      <td>40.710087</td>\n",
       "      <td>N</td>\n",
       "      <td>2124.0</td>\n",
       "    </tr>\n",
       "    <tr>\n",
       "      <th>id3504673</th>\n",
       "      <td>2</td>\n",
       "      <td>2016-04-06 19:32:31</td>\n",
       "      <td>1</td>\n",
       "      <td>-74.010040</td>\n",
       "      <td>40.719971</td>\n",
       "      <td>-74.012268</td>\n",
       "      <td>40.706718</td>\n",
       "      <td>N</td>\n",
       "      <td>429.0</td>\n",
       "    </tr>\n",
       "    <tr>\n",
       "      <th>id2181028</th>\n",
       "      <td>2</td>\n",
       "      <td>2016-03-26 13:30:55</td>\n",
       "      <td>1</td>\n",
       "      <td>-73.973053</td>\n",
       "      <td>40.793209</td>\n",
       "      <td>-73.972923</td>\n",
       "      <td>40.782520</td>\n",
       "      <td>N</td>\n",
       "      <td>435.0</td>\n",
       "    </tr>\n",
       "  </tbody>\n",
       "</table>\n",
       "</div>"
      ],
      "text/plain": [
       "           vendor_id      pickup_datetime  passenger_count  pickup_longitude  \\\n",
       "id                                                                             \n",
       "id2875421          2  2016-03-14 17:24:55                1        -73.982155   \n",
       "id2377394          1  2016-06-12 00:43:35                1        -73.980415   \n",
       "id3858529          2  2016-01-19 11:35:24                1        -73.979027   \n",
       "id3504673          2  2016-04-06 19:32:31                1        -74.010040   \n",
       "id2181028          2  2016-03-26 13:30:55                1        -73.973053   \n",
       "\n",
       "           pickup_latitude  dropoff_longitude  dropoff_latitude  \\\n",
       "id                                                                \n",
       "id2875421        40.767937         -73.964630         40.765602   \n",
       "id2377394        40.738564         -73.999481         40.731152   \n",
       "id3858529        40.763939         -74.005333         40.710087   \n",
       "id3504673        40.719971         -74.012268         40.706718   \n",
       "id2181028        40.793209         -73.972923         40.782520   \n",
       "\n",
       "          store_and_fwd_flag  trip_duration  \n",
       "id                                           \n",
       "id2875421                  N          455.0  \n",
       "id2377394                  N          663.0  \n",
       "id3858529                  N         2124.0  \n",
       "id3504673                  N          429.0  \n",
       "id2181028                  N          435.0  "
      ]
     },
     "execution_count": 2,
     "metadata": {},
     "output_type": "execute_result"
    }
   ],
   "source": [
    "initial_data = pd.read_csv('initial_data.csv', index_col='id')\n",
    "\n",
    "initial_data.head()"
   ]
  },
  {
   "cell_type": "code",
   "execution_count": 3,
   "id": "c2b3e06e-08b5-419f-9e63-18de2ee999a7",
   "metadata": {},
   "outputs": [],
   "source": [
    "initial_cols = ['vendor_id', 'passenger_count', 'pickup_longitude',\n",
    "                'pickup_latitude', 'dropoff_longitude', 'dropoff_latitude',\n",
    "                'trip_duration']\n",
    "\n",
    "initial_data = initial_data[initial_cols]"
   ]
  },
  {
   "cell_type": "markdown",
   "id": "1ef12403",
   "metadata": {},
   "source": [
    "### ТрюК!"
   ]
  },
  {
   "cell_type": "code",
   "execution_count": 4,
   "id": "3a663724",
   "metadata": {},
   "outputs": [],
   "source": [
    "### Замерять будем MSLE. Можно показать, что для оптимизации MSLE,\n",
    "### Достаточно логарифмировать таргетную переменную, \n",
    "### а потом оптимизировать привычные MSE\n",
    "import numpy as np\n",
    "\n",
    "initial_data = initial_data.assign(log_trip_duration=np.log1p(initial_data['trip_duration']))\n",
    "initial_data = initial_data.drop('trip_duration', axis=1)"
   ]
  },
  {
   "cell_type": "markdown",
   "id": "8bddc7a6",
   "metadata": {},
   "source": [
    "### Объяснение:\n",
    "\n",
    "Пусть имеем модель $a(x)$, обученную на MSE от $y$:\n",
    "$$\n",
    "\\text{MSE}(X, y, a) = \\frac{1}{\\ell}\\sum_{i=1}^{\\ell} \\big(y_i - a(x_i)\\big)^2 \\rightarrow min\n",
    "$$\n",
    "\n",
    "Также представим модель $a^*(x)$, обученную на MSE от $\\log{(y + 1)}$:\n",
    "$$\n",
    "\\text{MSE}(X, \\log{(y+1)}, a^*) = \\frac{1}{\\ell}\\sum_{i=1}^{\\ell} \\big(\\log{(y_i + 1)} - a^*(x_i)\\big)^2 \\rightarrow min\n",
    "$$\n",
    "\n",
    "Так как вторая модель старается аппроксимироваться ответы в виде $a^*(x) \\approx \\log{(y+1)}$, то для того, чтобы получить изначальные таргеты, необходимо выходы $a^*(x)$ проэкспоненцировать в виде следующего отношения: $a(x) = e^{a^*(x)} - 1$, то есть $a^*(x) = \\log{(a(x) + 1)}$, где $a^*(x)$ дает логарифмические выходы, а $a(x)$ - изначальные. Подставим данное соотношение в MSE выше, получим:\n",
    "\n",
    "$$\n",
    "\\text{MSE}(X, \\log{(y+1)}, \\log{(a(x) + 1)}) = \\frac{1}{\\ell}\\sum_{i=1}^{\\ell} \\big(\\log{(y_i + 1)} - \\log{(a(x_i) + 1)}\\big)^2 \\rightarrow min\n",
    "$$\n",
    "\n",
    "А это в точности MSLE от $y$:\n",
    "\n",
    "$$\n",
    "\\text{MSLE}(X, y, a) = \\frac{1}{\\ell}\\sum_{i=1}^{\\ell} \\big(\\log{(y_i + 1)} - \\log{(a(x_i) + 1)}\\big)^2 \\rightarrow min\n",
    "$$"
   ]
  },
  {
   "cell_type": "code",
   "execution_count": 5,
   "id": "de2e9c6a",
   "metadata": {},
   "outputs": [],
   "source": [
    "### Выделим test\n",
    "\n",
    "from sklearn.model_selection import train_test_split\n",
    "\n",
    "X = initial_data.drop('log_trip_duration', axis=1)\n",
    "y = initial_data['log_trip_duration']\n",
    "\n",
    "X_train_full, X_test, y_train_full, y_test = train_test_split(X, y, \n",
    "                                                    test_size=0.2, \n",
    "                                                    random_state=42)"
   ]
  },
  {
   "cell_type": "code",
   "execution_count": 6,
   "id": "80d920fe",
   "metadata": {},
   "outputs": [],
   "source": [
    "### Применим K-Fold на оставшуюяся валидационную часть X_train, y_train\n",
    "\n",
    "from sklearn.model_selection import KFold\n",
    "\n",
    "splitter = KFold(n_splits=20, shuffle=True, random_state=33)"
   ]
  },
  {
   "cell_type": "code",
   "execution_count": 7,
   "id": "b0889586",
   "metadata": {},
   "outputs": [],
   "source": [
    "### Замерьте качество на кросс-валидации!\n",
    "### Your code is here\n",
    "\n",
    "from sklearn.linear_model import LinearRegression\n",
    "from sklearn.metrics import mean_squared_error\n",
    "\n",
    "# Тут мы храним ошибки модели на валидационной выборке\n",
    "losses_validation = []\n",
    "\n",
    "for train_index, validation_index in splitter.split(X_train_full):\n",
    "    X_train, X_validation = X_train_full.values[train_index], X_train_full.values[validation_index]\n",
    "    Y_train, Y_validation = y_train_full.values[train_index], y_train_full.values[validation_index]\n",
    "    # На каждой итерации строим лин.регрессию на train\n",
    "    model = LinearRegression()\n",
    "    model.fit(X_train, Y_train)\n",
    "\n",
    "    losses_validation.append(mean_squared_error(Y_validation, model.predict(X_validation)))\n",
    "\n",
    "model_1_validation_loss = np.mean(losses_validation)"
   ]
  },
  {
   "cell_type": "code",
   "execution_count": 8,
   "id": "ad29bd2f",
   "metadata": {},
   "outputs": [],
   "source": [
    "### Теперь построим модель на всей тренировочной выборке\n",
    "### и замерим качество на тесте!\n",
    "### Your code is here\n",
    "\n",
    "model = LinearRegression()\n",
    "model.fit(X_train_full, y_train_full)\n",
    "\n",
    "model_1_test_loss = np.mean(mean_squared_error(y_test, model.predict(X_test)))"
   ]
  },
  {
   "cell_type": "code",
   "execution_count": 9,
   "id": "bfe908db",
   "metadata": {},
   "outputs": [],
   "source": [
    "### Укажите в ответе на задание 4 среднее качество моделей на валидационных выборках\n",
    "### и качество модели, обученной на полной тренировочной выборке, на тестовой выборке.\n",
    "### В качестве разделителя используйте точку, ответ округлите до тысячных."
   ]
  },
  {
   "cell_type": "markdown",
   "id": "4c2aa02c",
   "metadata": {},
   "source": [
    "### Модель №2. Проделаем все то же самое, только для модели с более осознанными признаками, которые удалось получить ранее"
   ]
  },
  {
   "cell_type": "code",
   "execution_count": 10,
   "id": "c37cb973",
   "metadata": {},
   "outputs": [],
   "source": [
    "processed_data = pd.read_csv('processed_data.csv', index_col='id')"
   ]
  },
  {
   "cell_type": "code",
   "execution_count": 11,
   "id": "4d1ead6a",
   "metadata": {},
   "outputs": [
    {
     "data": {
      "text/html": [
       "<div>\n",
       "<style scoped>\n",
       "    .dataframe tbody tr th:only-of-type {\n",
       "        vertical-align: middle;\n",
       "    }\n",
       "\n",
       "    .dataframe tbody tr th {\n",
       "        vertical-align: top;\n",
       "    }\n",
       "\n",
       "    .dataframe thead th {\n",
       "        text-align: right;\n",
       "    }\n",
       "</style>\n",
       "<table border=\"1\" class=\"dataframe\">\n",
       "  <thead>\n",
       "    <tr style=\"text-align: right;\">\n",
       "      <th></th>\n",
       "      <th>vendor_id</th>\n",
       "      <th>passenger_count</th>\n",
       "      <th>store_and_fwd_flag</th>\n",
       "      <th>trip_duration</th>\n",
       "      <th>distance_km</th>\n",
       "    </tr>\n",
       "    <tr>\n",
       "      <th>id</th>\n",
       "      <th></th>\n",
       "      <th></th>\n",
       "      <th></th>\n",
       "      <th></th>\n",
       "      <th></th>\n",
       "    </tr>\n",
       "  </thead>\n",
       "  <tbody>\n",
       "    <tr>\n",
       "      <th>id2875421</th>\n",
       "      <td>1</td>\n",
       "      <td>930.399753</td>\n",
       "      <td>0</td>\n",
       "      <td>455.0</td>\n",
       "      <td>1.500479</td>\n",
       "    </tr>\n",
       "    <tr>\n",
       "      <th>id2377394</th>\n",
       "      <td>0</td>\n",
       "      <td>930.399753</td>\n",
       "      <td>0</td>\n",
       "      <td>663.0</td>\n",
       "      <td>1.807119</td>\n",
       "    </tr>\n",
       "    <tr>\n",
       "      <th>id3858529</th>\n",
       "      <td>1</td>\n",
       "      <td>930.399753</td>\n",
       "      <td>0</td>\n",
       "      <td>2124.0</td>\n",
       "      <td>6.392080</td>\n",
       "    </tr>\n",
       "    <tr>\n",
       "      <th>id3504673</th>\n",
       "      <td>1</td>\n",
       "      <td>930.399753</td>\n",
       "      <td>0</td>\n",
       "      <td>429.0</td>\n",
       "      <td>1.487155</td>\n",
       "    </tr>\n",
       "    <tr>\n",
       "      <th>id2181028</th>\n",
       "      <td>1</td>\n",
       "      <td>930.399753</td>\n",
       "      <td>0</td>\n",
       "      <td>435.0</td>\n",
       "      <td>1.189925</td>\n",
       "    </tr>\n",
       "  </tbody>\n",
       "</table>\n",
       "</div>"
      ],
      "text/plain": [
       "           vendor_id  passenger_count  store_and_fwd_flag  trip_duration  \\\n",
       "id                                                                         \n",
       "id2875421          1       930.399753                   0          455.0   \n",
       "id2377394          0       930.399753                   0          663.0   \n",
       "id3858529          1       930.399753                   0         2124.0   \n",
       "id3504673          1       930.399753                   0          429.0   \n",
       "id2181028          1       930.399753                   0          435.0   \n",
       "\n",
       "           distance_km  \n",
       "id                      \n",
       "id2875421     1.500479  \n",
       "id2377394     1.807119  \n",
       "id3858529     6.392080  \n",
       "id3504673     1.487155  \n",
       "id2181028     1.189925  "
      ]
     },
     "execution_count": 11,
     "metadata": {},
     "output_type": "execute_result"
    }
   ],
   "source": [
    "processed_data.head()"
   ]
  },
  {
   "cell_type": "code",
   "execution_count": 12,
   "id": "1b87416c",
   "metadata": {},
   "outputs": [],
   "source": [
    "### Замерять будем MSLE. Можно показать, что для оптимизации MSLE,\n",
    "### Достаточно логарифмировать таргетную переменную, \n",
    "### а потом оптимизировать привычные MSE\n",
    "import numpy as np\n",
    "\n",
    "processed_data = processed_data.assign(log_trip_duration=np.log1p(processed_data['trip_duration']))\n",
    "processed_data = processed_data.drop('trip_duration', axis=1)"
   ]
  },
  {
   "cell_type": "code",
   "execution_count": 13,
   "id": "d04671a9",
   "metadata": {},
   "outputs": [],
   "source": [
    "X_2 = processed_data.drop('log_trip_duration', axis=1)\n",
    "y_2 = processed_data['log_trip_duration']"
   ]
  },
  {
   "cell_type": "code",
   "execution_count": 14,
   "id": "be1bab05",
   "metadata": {},
   "outputs": [],
   "source": [
    "### Важно! Когда сравниваем модели по их качеству\n",
    "### на валидации и на тесте, не шаффлим данные заново!\n",
    "\n",
    "test_indexes = X_test.index\n",
    "train_indexes = X_train_full.index\n",
    "\n",
    "X_train_2 = X_2[X_2.index.isin(train_indexes)]\n",
    "y_train_2 = y_2[y_2.index.isin(train_indexes)]\n",
    "\n",
    "X_test_2 = X_2[X_2.index.isin(test_indexes)]\n",
    "y_test_2 = y_2[y_2.index.isin(test_indexes)]"
   ]
  },
  {
   "cell_type": "code",
   "execution_count": 15,
   "id": "235e36d6",
   "metadata": {},
   "outputs": [
    {
     "data": {
      "text/plain": [
       "0.43132577042329423"
      ]
     },
     "execution_count": 15,
     "metadata": {},
     "output_type": "execute_result"
    }
   ],
   "source": [
    "### Замерьте качество на кросс-валидации!\n",
    "### Your code is here\n",
    "\n",
    "# Тут мы храним ошибки модели на валидационной выборке\n",
    "losses_2_validation = []\n",
    "\n",
    "for train_index, validation_index in splitter.split(X_train_2):\n",
    "    X_train, X_validation = X_train_2.values[train_index], X_train_2.values[validation_index]\n",
    "    Y_train, Y_validation = y_train_2.values[train_index], y_train_2.values[validation_index]\n",
    "    # На каждой итерации строим лин.регрессию на train\n",
    "    model = LinearRegression()\n",
    "    model.fit(X_train, Y_train)\n",
    "\n",
    "    losses_2_validation.append(mean_squared_error(Y_validation, model.predict(X_validation)))\n",
    "\n",
    "model_2_validation_loss = np.mean(losses_2_validation)\n",
    "model_2_validation_loss"
   ]
  },
  {
   "cell_type": "code",
   "execution_count": 16,
   "id": "dc79766f",
   "metadata": {},
   "outputs": [
    {
     "data": {
      "text/plain": [
       "0.4074669546810234"
      ]
     },
     "execution_count": 16,
     "metadata": {},
     "output_type": "execute_result"
    }
   ],
   "source": [
    "### Теперь построим модель и замерим качество на тесте!\n",
    "### Your code is here\n",
    "\n",
    "model_2 = LinearRegression()\n",
    "model_2.fit(X_train_2, y_train_2)\n",
    "\n",
    "model_2_test_loss = np.mean(mean_squared_error(y_test_2, model_2.predict(X_test_2)))\n",
    "model_2_test_loss"
   ]
  },
  {
   "cell_type": "code",
   "execution_count": 17,
   "id": "2b72b276",
   "metadata": {},
   "outputs": [],
   "source": [
    "### Укажите в ответе на задание 5 среднее качество моделей на валидационных выборках\n",
    "### и качество модели, обученной на полной тренировочной выборке, на тестовой выборке.\n",
    "### В качестве разделителя используйте точку, ответ округлите до тысячных."
   ]
  },
  {
   "cell_type": "markdown",
   "id": "b8ac4541",
   "metadata": {},
   "source": [
    "### Какую модель среди двух стоило бы выбрать? Помогла ли нам базовая обработка признаков с первых уроков? "
   ]
  },
  {
   "cell_type": "code",
   "execution_count": 18,
   "id": "23023f7e-b2bc-4aa7-b701-ecc9fb7d0df9",
   "metadata": {},
   "outputs": [
    {
     "data": {
      "text/plain": [
       "0.6056668879526186"
      ]
     },
     "execution_count": 18,
     "metadata": {},
     "output_type": "execute_result"
    }
   ],
   "source": [
    "### Ошибка первой модели (без обработки признаков) равна:\n",
    "model_1_test_loss"
   ]
  },
  {
   "cell_type": "code",
   "execution_count": 19,
   "id": "24f6302c-71b6-4f7e-b091-9f674828c86a",
   "metadata": {},
   "outputs": [
    {
     "data": {
      "text/plain": [
       "0.4074669546810234"
      ]
     },
     "execution_count": 19,
     "metadata": {},
     "output_type": "execute_result"
    }
   ],
   "source": [
    "### Ошибка второй модели (c обработанными признаками) равна:\n",
    "model_2_test_loss"
   ]
  },
  {
   "cell_type": "code",
   "execution_count": 20,
   "id": "1239ea59-9d04-48b0-9f1e-80a1af33dfa9",
   "metadata": {},
   "outputs": [],
   "source": [
    "### Из данных выше следует, что ошибка второй модели примерно на 50% меньше на тестовых данных.\n",
    "### Поэтому из двух этих моделей стоит выбрать вторую (с обработанными признаками)."
   ]
  }
 ],
 "metadata": {
  "kernelspec": {
   "display_name": "Python 3 (ipykernel)",
   "language": "python",
   "name": "python3"
  },
  "language_info": {
   "codemirror_mode": {
    "name": "ipython",
    "version": 3
   },
   "file_extension": ".py",
   "mimetype": "text/x-python",
   "name": "python",
   "nbconvert_exporter": "python",
   "pygments_lexer": "ipython3",
   "version": "3.8.10"
  }
 },
 "nbformat": 4,
 "nbformat_minor": 5
}
