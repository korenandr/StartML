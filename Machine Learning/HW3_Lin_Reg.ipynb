{
 "cells": [
  {
   "cell_type": "code",
   "execution_count": 1,
   "id": "80a14598",
   "metadata": {},
   "outputs": [],
   "source": [
    "import pandas as pd"
   ]
  },
  {
   "cell_type": "markdown",
   "id": "4cbf5b35",
   "metadata": {},
   "source": [
    "Загрузим табличку с нашими данными про длительность поездок такси! "
   ]
  },
  {
   "cell_type": "code",
   "execution_count": 2,
   "id": "8043aa13",
   "metadata": {},
   "outputs": [
    {
     "data": {
      "text/html": [
       "<div>\n",
       "<style scoped>\n",
       "    .dataframe tbody tr th:only-of-type {\n",
       "        vertical-align: middle;\n",
       "    }\n",
       "\n",
       "    .dataframe tbody tr th {\n",
       "        vertical-align: top;\n",
       "    }\n",
       "\n",
       "    .dataframe thead th {\n",
       "        text-align: right;\n",
       "    }\n",
       "</style>\n",
       "<table border=\"1\" class=\"dataframe\">\n",
       "  <thead>\n",
       "    <tr style=\"text-align: right;\">\n",
       "      <th></th>\n",
       "      <th>vendor_id</th>\n",
       "      <th>pickup_datetime</th>\n",
       "      <th>passenger_count</th>\n",
       "      <th>store_and_fwd_flag</th>\n",
       "      <th>trip_duration</th>\n",
       "      <th>distance_km</th>\n",
       "    </tr>\n",
       "    <tr>\n",
       "      <th>id</th>\n",
       "      <th></th>\n",
       "      <th></th>\n",
       "      <th></th>\n",
       "      <th></th>\n",
       "      <th></th>\n",
       "      <th></th>\n",
       "    </tr>\n",
       "  </thead>\n",
       "  <tbody>\n",
       "    <tr>\n",
       "      <th>id2875421</th>\n",
       "      <td>1</td>\n",
       "      <td>2016-03-14 17:24:55</td>\n",
       "      <td>930.399753</td>\n",
       "      <td>0</td>\n",
       "      <td>455.0</td>\n",
       "      <td>1.500479</td>\n",
       "    </tr>\n",
       "    <tr>\n",
       "      <th>id2377394</th>\n",
       "      <td>0</td>\n",
       "      <td>2016-06-12 00:43:35</td>\n",
       "      <td>930.399753</td>\n",
       "      <td>0</td>\n",
       "      <td>663.0</td>\n",
       "      <td>1.807119</td>\n",
       "    </tr>\n",
       "    <tr>\n",
       "      <th>id3858529</th>\n",
       "      <td>1</td>\n",
       "      <td>2016-01-19 11:35:24</td>\n",
       "      <td>930.399753</td>\n",
       "      <td>0</td>\n",
       "      <td>2124.0</td>\n",
       "      <td>6.392080</td>\n",
       "    </tr>\n",
       "    <tr>\n",
       "      <th>id3504673</th>\n",
       "      <td>1</td>\n",
       "      <td>2016-04-06 19:32:31</td>\n",
       "      <td>930.399753</td>\n",
       "      <td>0</td>\n",
       "      <td>429.0</td>\n",
       "      <td>1.487155</td>\n",
       "    </tr>\n",
       "    <tr>\n",
       "      <th>id2181028</th>\n",
       "      <td>1</td>\n",
       "      <td>2016-03-26 13:30:55</td>\n",
       "      <td>930.399753</td>\n",
       "      <td>0</td>\n",
       "      <td>435.0</td>\n",
       "      <td>1.189925</td>\n",
       "    </tr>\n",
       "  </tbody>\n",
       "</table>\n",
       "</div>"
      ],
      "text/plain": [
       "           vendor_id      pickup_datetime  passenger_count  \\\n",
       "id                                                           \n",
       "id2875421          1  2016-03-14 17:24:55       930.399753   \n",
       "id2377394          0  2016-06-12 00:43:35       930.399753   \n",
       "id3858529          1  2016-01-19 11:35:24       930.399753   \n",
       "id3504673          1  2016-04-06 19:32:31       930.399753   \n",
       "id2181028          1  2016-03-26 13:30:55       930.399753   \n",
       "\n",
       "           store_and_fwd_flag  trip_duration  distance_km  \n",
       "id                                                         \n",
       "id2875421                   0          455.0     1.500479  \n",
       "id2377394                   0          663.0     1.807119  \n",
       "id3858529                   0         2124.0     6.392080  \n",
       "id3504673                   0          429.0     1.487155  \n",
       "id2181028                   0          435.0     1.189925  "
      ]
     },
     "execution_count": 2,
     "metadata": {},
     "output_type": "execute_result"
    }
   ],
   "source": [
    "df = pd.read_csv('taxi_dataset_with_target.csv', index_col=0)\n",
    "\n",
    "df.head()"
   ]
  },
  {
   "cell_type": "markdown",
   "id": "bcb408f8",
   "metadata": {},
   "source": [
    "Попробуем построить модель Линейной Регрессии!\n",
    "\n",
    "В качестве Выборки используйте таргетную колонку (*trip_duration*) и все признаки, кроме времени начала заказа (*pickup_datetime*)\n",
    "\n",
    "Для начала воспользуемся \"коробочным решением\". Для этого создайте переменную model, положите в нее класс **LinearRegression** из модуля **linear_model** библиотеки **sklearn**.\n",
    "\n",
    "Далее воспользуйтесь методом **fit**, положите в него через запятую: массив **X**, состоящий из признаков объектов (можно pandas dataframe'ом, а можно numpy-массивом), и массив **Y** с таргетами."
   ]
  },
  {
   "cell_type": "code",
   "execution_count": 3,
   "id": "d6e31fe8",
   "metadata": {},
   "outputs": [
    {
     "data": {
      "text/html": [
       "<div>\n",
       "<style scoped>\n",
       "    .dataframe tbody tr th:only-of-type {\n",
       "        vertical-align: middle;\n",
       "    }\n",
       "\n",
       "    .dataframe tbody tr th {\n",
       "        vertical-align: top;\n",
       "    }\n",
       "\n",
       "    .dataframe thead th {\n",
       "        text-align: right;\n",
       "    }\n",
       "</style>\n",
       "<table border=\"1\" class=\"dataframe\">\n",
       "  <thead>\n",
       "    <tr style=\"text-align: right;\">\n",
       "      <th></th>\n",
       "      <th>vendor_id</th>\n",
       "      <th>passenger_count</th>\n",
       "      <th>store_and_fwd_flag</th>\n",
       "      <th>distance_km</th>\n",
       "    </tr>\n",
       "    <tr>\n",
       "      <th>id</th>\n",
       "      <th></th>\n",
       "      <th></th>\n",
       "      <th></th>\n",
       "      <th></th>\n",
       "    </tr>\n",
       "  </thead>\n",
       "  <tbody>\n",
       "    <tr>\n",
       "      <th>id2875421</th>\n",
       "      <td>1</td>\n",
       "      <td>930.399753</td>\n",
       "      <td>0</td>\n",
       "      <td>1.500479</td>\n",
       "    </tr>\n",
       "    <tr>\n",
       "      <th>id2377394</th>\n",
       "      <td>0</td>\n",
       "      <td>930.399753</td>\n",
       "      <td>0</td>\n",
       "      <td>1.807119</td>\n",
       "    </tr>\n",
       "    <tr>\n",
       "      <th>id3858529</th>\n",
       "      <td>1</td>\n",
       "      <td>930.399753</td>\n",
       "      <td>0</td>\n",
       "      <td>6.392080</td>\n",
       "    </tr>\n",
       "    <tr>\n",
       "      <th>id3504673</th>\n",
       "      <td>1</td>\n",
       "      <td>930.399753</td>\n",
       "      <td>0</td>\n",
       "      <td>1.487155</td>\n",
       "    </tr>\n",
       "    <tr>\n",
       "      <th>id2181028</th>\n",
       "      <td>1</td>\n",
       "      <td>930.399753</td>\n",
       "      <td>0</td>\n",
       "      <td>1.189925</td>\n",
       "    </tr>\n",
       "  </tbody>\n",
       "</table>\n",
       "</div>"
      ],
      "text/plain": [
       "           vendor_id  passenger_count  store_and_fwd_flag  distance_km\n",
       "id                                                                    \n",
       "id2875421          1       930.399753                   0     1.500479\n",
       "id2377394          0       930.399753                   0     1.807119\n",
       "id3858529          1       930.399753                   0     6.392080\n",
       "id3504673          1       930.399753                   0     1.487155\n",
       "id2181028          1       930.399753                   0     1.189925"
      ]
     },
     "execution_count": 3,
     "metadata": {},
     "output_type": "execute_result"
    }
   ],
   "source": [
    "from sklearn.linear_model import LinearRegression\n",
    "\n",
    "### Your code is here\n",
    "X = df.drop(['trip_duration', 'pickup_datetime'], axis=1)\n",
    "Y = df['trip_duration']\n",
    "\n",
    "X.head()"
   ]
  },
  {
   "cell_type": "code",
   "execution_count": 4,
   "id": "3d056809-dd3f-4396-af58-1497362029c5",
   "metadata": {},
   "outputs": [
    {
     "data": {
      "text/html": [
       "<style>#sk-container-id-1 {color: black;background-color: white;}#sk-container-id-1 pre{padding: 0;}#sk-container-id-1 div.sk-toggleable {background-color: white;}#sk-container-id-1 label.sk-toggleable__label {cursor: pointer;display: block;width: 100%;margin-bottom: 0;padding: 0.3em;box-sizing: border-box;text-align: center;}#sk-container-id-1 label.sk-toggleable__label-arrow:before {content: \"▸\";float: left;margin-right: 0.25em;color: #696969;}#sk-container-id-1 label.sk-toggleable__label-arrow:hover:before {color: black;}#sk-container-id-1 div.sk-estimator:hover label.sk-toggleable__label-arrow:before {color: black;}#sk-container-id-1 div.sk-toggleable__content {max-height: 0;max-width: 0;overflow: hidden;text-align: left;background-color: #f0f8ff;}#sk-container-id-1 div.sk-toggleable__content pre {margin: 0.2em;color: black;border-radius: 0.25em;background-color: #f0f8ff;}#sk-container-id-1 input.sk-toggleable__control:checked~div.sk-toggleable__content {max-height: 200px;max-width: 100%;overflow: auto;}#sk-container-id-1 input.sk-toggleable__control:checked~label.sk-toggleable__label-arrow:before {content: \"▾\";}#sk-container-id-1 div.sk-estimator input.sk-toggleable__control:checked~label.sk-toggleable__label {background-color: #d4ebff;}#sk-container-id-1 div.sk-label input.sk-toggleable__control:checked~label.sk-toggleable__label {background-color: #d4ebff;}#sk-container-id-1 input.sk-hidden--visually {border: 0;clip: rect(1px 1px 1px 1px);clip: rect(1px, 1px, 1px, 1px);height: 1px;margin: -1px;overflow: hidden;padding: 0;position: absolute;width: 1px;}#sk-container-id-1 div.sk-estimator {font-family: monospace;background-color: #f0f8ff;border: 1px dotted black;border-radius: 0.25em;box-sizing: border-box;margin-bottom: 0.5em;}#sk-container-id-1 div.sk-estimator:hover {background-color: #d4ebff;}#sk-container-id-1 div.sk-parallel-item::after {content: \"\";width: 100%;border-bottom: 1px solid gray;flex-grow: 1;}#sk-container-id-1 div.sk-label:hover label.sk-toggleable__label {background-color: #d4ebff;}#sk-container-id-1 div.sk-serial::before {content: \"\";position: absolute;border-left: 1px solid gray;box-sizing: border-box;top: 0;bottom: 0;left: 50%;z-index: 0;}#sk-container-id-1 div.sk-serial {display: flex;flex-direction: column;align-items: center;background-color: white;padding-right: 0.2em;padding-left: 0.2em;position: relative;}#sk-container-id-1 div.sk-item {position: relative;z-index: 1;}#sk-container-id-1 div.sk-parallel {display: flex;align-items: stretch;justify-content: center;background-color: white;position: relative;}#sk-container-id-1 div.sk-item::before, #sk-container-id-1 div.sk-parallel-item::before {content: \"\";position: absolute;border-left: 1px solid gray;box-sizing: border-box;top: 0;bottom: 0;left: 50%;z-index: -1;}#sk-container-id-1 div.sk-parallel-item {display: flex;flex-direction: column;z-index: 1;position: relative;background-color: white;}#sk-container-id-1 div.sk-parallel-item:first-child::after {align-self: flex-end;width: 50%;}#sk-container-id-1 div.sk-parallel-item:last-child::after {align-self: flex-start;width: 50%;}#sk-container-id-1 div.sk-parallel-item:only-child::after {width: 0;}#sk-container-id-1 div.sk-dashed-wrapped {border: 1px dashed gray;margin: 0 0.4em 0.5em 0.4em;box-sizing: border-box;padding-bottom: 0.4em;background-color: white;}#sk-container-id-1 div.sk-label label {font-family: monospace;font-weight: bold;display: inline-block;line-height: 1.2em;}#sk-container-id-1 div.sk-label-container {text-align: center;}#sk-container-id-1 div.sk-container {/* jupyter's `normalize.less` sets `[hidden] { display: none; }` but bootstrap.min.css set `[hidden] { display: none !important; }` so we also need the `!important` here to be able to override the default hidden behavior on the sphinx rendered scikit-learn.org. See: https://github.com/scikit-learn/scikit-learn/issues/21755 */display: inline-block !important;position: relative;}#sk-container-id-1 div.sk-text-repr-fallback {display: none;}</style><div id=\"sk-container-id-1\" class=\"sk-top-container\"><div class=\"sk-text-repr-fallback\"><pre>LinearRegression()</pre><b>In a Jupyter environment, please rerun this cell to show the HTML representation or trust the notebook. <br />On GitHub, the HTML representation is unable to render, please try loading this page with nbviewer.org.</b></div><div class=\"sk-container\" hidden><div class=\"sk-item\"><div class=\"sk-estimator sk-toggleable\"><input class=\"sk-toggleable__control sk-hidden--visually\" id=\"sk-estimator-id-1\" type=\"checkbox\" checked><label for=\"sk-estimator-id-1\" class=\"sk-toggleable__label sk-toggleable__label-arrow\">LinearRegression</label><div class=\"sk-toggleable__content\"><pre>LinearRegression()</pre></div></div></div></div></div>"
      ],
      "text/plain": [
       "LinearRegression()"
      ]
     },
     "execution_count": 4,
     "metadata": {},
     "output_type": "execute_result"
    }
   ],
   "source": [
    "model=LinearRegression()\n",
    "model.fit(X, Y)"
   ]
  },
  {
   "cell_type": "markdown",
   "id": "90c703d9",
   "metadata": {},
   "source": [
    "Чтобы посмотреть на значения полученных коэффициентов модели, следует обратиться к атрибуту **coef_** класса линейной регрессии. Для просмотра свободного веса, к атрибуту **intercept_** "
   ]
  },
  {
   "cell_type": "code",
   "execution_count": 5,
   "id": "e3161741",
   "metadata": {},
   "outputs": [
    {
     "name": "stdout",
     "output_type": "stream",
     "text": [
      "vendor_id 198.463\n",
      "passenger_count 0.296\n",
      "store_and_fwd_flag 56.469\n",
      "distance_km 115.274\n",
      "171.657\n"
     ]
    }
   ],
   "source": [
    "### Your code is here\n",
    "for column, coef in zip(X.columns, model.coef_):\n",
    "    print(column, round(coef, 3))\n",
    "    \n",
    "print(round(model.intercept_, 3))"
   ]
  },
  {
   "cell_type": "code",
   "execution_count": 6,
   "id": "d5a87a7b",
   "metadata": {},
   "outputs": [],
   "source": [
    "### Полученные коэффициенты будут являться ответом на задание 5 в ЛМС.\n",
    "### Перечислите коэффициенты через запятую и пробел, округлив до 3 знаков после точки.\n",
    "### Используйте точку в качестве десятичного разделителя."
   ]
  },
  {
   "cell_type": "markdown",
   "id": "e34dc13c",
   "metadata": {},
   "source": [
    "Теперь реализуйте функцию LinearRegressionByMatrix, которая будет принимать на вход 3 параметра:\n",
    "\n",
    "Матрицу объект-признак **(X)**, вектор с ответами **(Y)**, булевый параметр **fit_intercept**, цель которого - добавить константный признак (состоящий из единичек), если True, и ничего не делать, если False.\n",
    "\n",
    "Функция должна вернуть одномерный np.array объект с оцененными **$\\beta_1, ..., \\beta_n, \\beta_0$**\n",
    "\n",
    "Реализуйте решение через аналитическое решение в матрицах из лекции и практики:\n",
    "\n",
    "$$\n",
    "\\beta^* = (X^T \\cdot X)^{-1} \\cdot X^T \\cdot Y\n",
    "$$"
   ]
  },
  {
   "cell_type": "code",
   "execution_count": 7,
   "id": "1123addb",
   "metadata": {},
   "outputs": [],
   "source": [
    "import numpy as np\n",
    "\n",
    "### Your code is here\n",
    "\n",
    "def LinearRegressionByMatrix(X: np.array, Y: np.array, fit_intercept: bool = True):\n",
    "        \"\"\"\n",
    "        :param X: матрица объектов\n",
    "        :param Y: вектор (матрица с 1 столбцом) ответов\n",
    "        :param fit_intercept: добавить ли константную переменную в данные?\n",
    "        \n",
    "        :return: одномерный numpy-array с полученными коэффициентами beta\n",
    "        \"\"\"\n",
    "        \n",
    "        if fit_intercept:\n",
    "            X = np.insert(X, 0, 1, axis=1)\n",
    "\n",
    "        xxt = np.dot(X.T, X)\n",
    "        xxt_inv = np.linalg.inv(xxt)\n",
    "        xxt_inv_xxt = np.dot(xxt_inv, X.T)\n",
    "        final_betas = np.dot(xxt_inv_xxt, Y)\n",
    "        \n",
    "        return final_betas"
   ]
  },
  {
   "cell_type": "code",
   "execution_count": 8,
   "id": "68b7dec6",
   "metadata": {},
   "outputs": [],
   "source": [
    "X_train = df.drop(['trip_duration', 'pickup_datetime'], axis=1).values\n",
    "Y_train = df['trip_duration'].values\n",
    "\n",
    "result = LinearRegressionByMatrix(X_train, Y_train)"
   ]
  },
  {
   "cell_type": "code",
   "execution_count": 9,
   "id": "1937795b",
   "metadata": {},
   "outputs": [],
   "source": [
    "### Полученные коэффициенты будут являться ответом на задание 6 в ЛМС.\n",
    "### Перечислите коэффициенты через запятую и пробел, округлив в большую сторону до 3 знаков после точки.\n",
    "### Используйте точку в качестве десятичного разделителя."
   ]
  },
  {
   "cell_type": "markdown",
   "id": "31f6ea9d",
   "metadata": {},
   "source": [
    "Получились ли коэффициенты такими же, как и в \"коробочном\" варианте?\n",
    "\n",
    "Имея коэффициенты модели, можно восстановить предсказания для каждого объекта!\n",
    "\n",
    "Сделайте это через операцию матричного произведения матрицы **X** и полученных коэффициентов (как результат работы *LinearRegressionByMatrix*)"
   ]
  },
  {
   "cell_type": "code",
   "execution_count": 10,
   "id": "35b801c1",
   "metadata": {},
   "outputs": [],
   "source": [
    "### Your code is here\n",
    "X_train_with_constant = np.insert(X_train, 0, 1, axis=1)"
   ]
  },
  {
   "cell_type": "code",
   "execution_count": 11,
   "id": "d77f91d2",
   "metadata": {},
   "outputs": [],
   "source": [
    "pred = np.dot(X_train_with_constant, result)"
   ]
  },
  {
   "cell_type": "code",
   "execution_count": 12,
   "id": "293afe79-ebd1-4844-995a-f28a5a8398fc",
   "metadata": {},
   "outputs": [
    {
     "name": "stdout",
     "output_type": "stream",
     "text": [
      "[ 818.7747282   655.65912268 1382.6469154  ... 1548.74134353  573.4306718\n",
      "  578.2338068 ]\n"
     ]
    }
   ],
   "source": [
    "print(pred)"
   ]
  }
 ],
 "metadata": {
  "kernelspec": {
   "display_name": "Python 3 (ipykernel)",
   "language": "python",
   "name": "python3"
  },
  "language_info": {
   "codemirror_mode": {
    "name": "ipython",
    "version": 3
   },
   "file_extension": ".py",
   "mimetype": "text/x-python",
   "name": "python",
   "nbconvert_exporter": "python",
   "pygments_lexer": "ipython3",
   "version": "3.8.10"
  }
 },
 "nbformat": 4,
 "nbformat_minor": 5
}
