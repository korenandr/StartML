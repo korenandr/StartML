{
 "cells": [
  {
   "cell_type": "code",
   "execution_count": 1,
   "id": "f43b5929",
   "metadata": {
    "id": "81t4wEj-9sjI"
   },
   "outputs": [],
   "source": [
    " import pandas as pd"
   ]
  },
  {
   "cell_type": "markdown",
   "id": "4ee69d46",
   "metadata": {
    "id": "Eir77xQk9sjK"
   },
   "source": [
    "**Научимся считать метрики в pandas-табличках**\n",
    "\n",
    "Представим, что 2 добрых и очень-очень умных гнома прокрались к нам в данные, описывающие различные поездки в такси.\n",
    "Далее, для каждого объекта (и его признаков, соответственно), гномы построили модели предсказания того, какая должна была быть у данных заказов длительность исполнения. Прогнозы своих моделей они положили соответственно в колонки **prediction_1** и **prediction_2**"
   ]
  },
  {
   "cell_type": "code",
   "execution_count": 2,
   "id": "93c9289f",
   "metadata": {
    "id": "cF_CAFZ89sjL"
   },
   "outputs": [],
   "source": [
    "df = pd.read_csv('taxi_dataset_with_predictions.csv', index_col=0)"
   ]
  },
  {
   "cell_type": "code",
   "execution_count": 3,
   "id": "6adc1334",
   "metadata": {
    "id": "UlT5Cex79sjN"
   },
   "outputs": [
    {
     "data": {
      "text/html": [
       "<div>\n",
       "<style scoped>\n",
       "    .dataframe tbody tr th:only-of-type {\n",
       "        vertical-align: middle;\n",
       "    }\n",
       "\n",
       "    .dataframe tbody tr th {\n",
       "        vertical-align: top;\n",
       "    }\n",
       "\n",
       "    .dataframe thead th {\n",
       "        text-align: right;\n",
       "    }\n",
       "</style>\n",
       "<table border=\"1\" class=\"dataframe\">\n",
       "  <thead>\n",
       "    <tr style=\"text-align: right;\">\n",
       "      <th></th>\n",
       "    </tr>\n",
       "    <tr>\n",
       "      <th>version https://git-lfs.github.com/spec/v1</th>\n",
       "    </tr>\n",
       "  </thead>\n",
       "  <tbody>\n",
       "    <tr>\n",
       "      <th>oid sha256:a2551ed85906a38ce937030e7592e5b14fea3add3bb5acfc855a8ff57f0cc220</th>\n",
       "    </tr>\n",
       "    <tr>\n",
       "      <th>size 168570941</th>\n",
       "    </tr>\n",
       "  </tbody>\n",
       "</table>\n",
       "</div>"
      ],
      "text/plain": [
       "Empty DataFrame\n",
       "Columns: []\n",
       "Index: [oid sha256:a2551ed85906a38ce937030e7592e5b14fea3add3bb5acfc855a8ff57f0cc220, size 168570941]"
      ]
     },
     "execution_count": 3,
     "metadata": {},
     "output_type": "execute_result"
    }
   ],
   "source": [
    "df.head()"
   ]
  },
  {
   "cell_type": "markdown",
   "id": "a0e95097",
   "metadata": {
    "id": "hJJOnoaw9sjO"
   },
   "source": [
    "Давайте попробуем оценить, насколько и вправду гномы оказались умными и осведомленными в области построения различных моделей машинного обучения, и найдем, насколько сильно их модели ошибаются на наших данных!"
   ]
  },
  {
   "cell_type": "markdown",
   "id": "9d9ba86b",
   "metadata": {
    "id": "ZSeEOdpP9sjO"
   },
   "source": [
    "В начале посчитайте **MSE** модели. Для этого нужно посчитать квадратичное отклонение на каждом объекте, а потом просто усредниться! Полезно иметь формулу перед глазами.\n",
    "\n",
    "$$\n",
    "MSE = \\frac{1}{n} \\sum_i^n (a(x_i)-y_i)^2\n",
    "$$\n",
    "\n",
    "Положите результаты в переменные *error_1* и *error_2* соответственно."
   ]
  },
  {
   "cell_type": "code",
   "execution_count": 4,
   "id": "8f88e2ba",
   "metadata": {
    "id": "ozhTh4ls9sjQ"
   },
   "outputs": [
    {
     "ename": "KeyError",
     "evalue": "'trip_duration'",
     "output_type": "error",
     "traceback": [
      "\u001b[0;31m---------------------------------------------------------------------------\u001b[0m",
      "\u001b[0;31mKeyError\u001b[0m                                  Traceback (most recent call last)",
      "File \u001b[0;32m/opt/conda/lib/python3.8/site-packages/pandas/core/indexes/base.py:3621\u001b[0m, in \u001b[0;36mIndex.get_loc\u001b[0;34m(self, key, method, tolerance)\u001b[0m\n\u001b[1;32m   3620\u001b[0m \u001b[38;5;28;01mtry\u001b[39;00m:\n\u001b[0;32m-> 3621\u001b[0m     \u001b[38;5;28;01mreturn\u001b[39;00m \u001b[38;5;28;43mself\u001b[39;49m\u001b[38;5;241;43m.\u001b[39;49m\u001b[43m_engine\u001b[49m\u001b[38;5;241;43m.\u001b[39;49m\u001b[43mget_loc\u001b[49m\u001b[43m(\u001b[49m\u001b[43mcasted_key\u001b[49m\u001b[43m)\u001b[49m\n\u001b[1;32m   3622\u001b[0m \u001b[38;5;28;01mexcept\u001b[39;00m \u001b[38;5;167;01mKeyError\u001b[39;00m \u001b[38;5;28;01mas\u001b[39;00m err:\n",
      "File \u001b[0;32m/opt/conda/lib/python3.8/site-packages/pandas/_libs/index.pyx:136\u001b[0m, in \u001b[0;36mpandas._libs.index.IndexEngine.get_loc\u001b[0;34m()\u001b[0m\n",
      "File \u001b[0;32m/opt/conda/lib/python3.8/site-packages/pandas/_libs/index.pyx:163\u001b[0m, in \u001b[0;36mpandas._libs.index.IndexEngine.get_loc\u001b[0;34m()\u001b[0m\n",
      "File \u001b[0;32mpandas/_libs/hashtable_class_helper.pxi:5198\u001b[0m, in \u001b[0;36mpandas._libs.hashtable.PyObjectHashTable.get_item\u001b[0;34m()\u001b[0m\n",
      "File \u001b[0;32mpandas/_libs/hashtable_class_helper.pxi:5206\u001b[0m, in \u001b[0;36mpandas._libs.hashtable.PyObjectHashTable.get_item\u001b[0;34m()\u001b[0m\n",
      "\u001b[0;31mKeyError\u001b[0m: 'trip_duration'",
      "\nThe above exception was the direct cause of the following exception:\n",
      "\u001b[0;31mKeyError\u001b[0m                                  Traceback (most recent call last)",
      "Input \u001b[0;32mIn [4]\u001b[0m, in \u001b[0;36m<module>\u001b[0;34m\u001b[0m\n\u001b[1;32m      1\u001b[0m \u001b[38;5;66;03m### Your code is here\u001b[39;00m\n\u001b[0;32m----> 2\u001b[0m error_1 \u001b[38;5;241m=\u001b[39m ((\u001b[43mdf\u001b[49m\u001b[43m[\u001b[49m\u001b[38;5;124;43m'\u001b[39;49m\u001b[38;5;124;43mtrip_duration\u001b[39;49m\u001b[38;5;124;43m'\u001b[39;49m\u001b[43m]\u001b[49m \u001b[38;5;241m-\u001b[39m df[\u001b[38;5;124m'\u001b[39m\u001b[38;5;124mprediction_1\u001b[39m\u001b[38;5;124m'\u001b[39m]) \u001b[38;5;241m*\u001b[39m\u001b[38;5;241m*\u001b[39m \u001b[38;5;241m2\u001b[39m)\u001b[38;5;241m.\u001b[39mmean()\n\u001b[1;32m      3\u001b[0m error_2 \u001b[38;5;241m=\u001b[39m ((df[\u001b[38;5;124m'\u001b[39m\u001b[38;5;124mtrip_duration\u001b[39m\u001b[38;5;124m'\u001b[39m] \u001b[38;5;241m-\u001b[39m df[\u001b[38;5;124m'\u001b[39m\u001b[38;5;124mprediction_2\u001b[39m\u001b[38;5;124m'\u001b[39m]) \u001b[38;5;241m*\u001b[39m\u001b[38;5;241m*\u001b[39m \u001b[38;5;241m2\u001b[39m)\u001b[38;5;241m.\u001b[39mmean()\n",
      "File \u001b[0;32m/opt/conda/lib/python3.8/site-packages/pandas/core/frame.py:3505\u001b[0m, in \u001b[0;36mDataFrame.__getitem__\u001b[0;34m(self, key)\u001b[0m\n\u001b[1;32m   3503\u001b[0m \u001b[38;5;28;01mif\u001b[39;00m \u001b[38;5;28mself\u001b[39m\u001b[38;5;241m.\u001b[39mcolumns\u001b[38;5;241m.\u001b[39mnlevels \u001b[38;5;241m>\u001b[39m \u001b[38;5;241m1\u001b[39m:\n\u001b[1;32m   3504\u001b[0m     \u001b[38;5;28;01mreturn\u001b[39;00m \u001b[38;5;28mself\u001b[39m\u001b[38;5;241m.\u001b[39m_getitem_multilevel(key)\n\u001b[0;32m-> 3505\u001b[0m indexer \u001b[38;5;241m=\u001b[39m \u001b[38;5;28;43mself\u001b[39;49m\u001b[38;5;241;43m.\u001b[39;49m\u001b[43mcolumns\u001b[49m\u001b[38;5;241;43m.\u001b[39;49m\u001b[43mget_loc\u001b[49m\u001b[43m(\u001b[49m\u001b[43mkey\u001b[49m\u001b[43m)\u001b[49m\n\u001b[1;32m   3506\u001b[0m \u001b[38;5;28;01mif\u001b[39;00m is_integer(indexer):\n\u001b[1;32m   3507\u001b[0m     indexer \u001b[38;5;241m=\u001b[39m [indexer]\n",
      "File \u001b[0;32m/opt/conda/lib/python3.8/site-packages/pandas/core/indexes/base.py:3623\u001b[0m, in \u001b[0;36mIndex.get_loc\u001b[0;34m(self, key, method, tolerance)\u001b[0m\n\u001b[1;32m   3621\u001b[0m     \u001b[38;5;28;01mreturn\u001b[39;00m \u001b[38;5;28mself\u001b[39m\u001b[38;5;241m.\u001b[39m_engine\u001b[38;5;241m.\u001b[39mget_loc(casted_key)\n\u001b[1;32m   3622\u001b[0m \u001b[38;5;28;01mexcept\u001b[39;00m \u001b[38;5;167;01mKeyError\u001b[39;00m \u001b[38;5;28;01mas\u001b[39;00m err:\n\u001b[0;32m-> 3623\u001b[0m     \u001b[38;5;28;01mraise\u001b[39;00m \u001b[38;5;167;01mKeyError\u001b[39;00m(key) \u001b[38;5;28;01mfrom\u001b[39;00m \u001b[38;5;21;01merr\u001b[39;00m\n\u001b[1;32m   3624\u001b[0m \u001b[38;5;28;01mexcept\u001b[39;00m \u001b[38;5;167;01mTypeError\u001b[39;00m:\n\u001b[1;32m   3625\u001b[0m     \u001b[38;5;66;03m# If we have a listlike key, _check_indexing_error will raise\u001b[39;00m\n\u001b[1;32m   3626\u001b[0m     \u001b[38;5;66;03m#  InvalidIndexError. Otherwise we fall through and re-raise\u001b[39;00m\n\u001b[1;32m   3627\u001b[0m     \u001b[38;5;66;03m#  the TypeError.\u001b[39;00m\n\u001b[1;32m   3628\u001b[0m     \u001b[38;5;28mself\u001b[39m\u001b[38;5;241m.\u001b[39m_check_indexing_error(key)\n",
      "\u001b[0;31mKeyError\u001b[0m: 'trip_duration'"
     ]
    }
   ],
   "source": [
    "### Your code is here\n",
    "error_1 = ((df['trip_duration'] - df['prediction_1']) ** 2).mean()\n",
    "error_2 = ((df['trip_duration'] - df['prediction_2']) ** 2).mean()"
   ]
  },
  {
   "cell_type": "code",
   "execution_count": null,
   "id": "600db1cc",
   "metadata": {
    "id": "_JbxQKWp9sjQ"
   },
   "outputs": [],
   "source": [
    "###Распечатайте значения MSE для обеих моделей. Используйте эти значения для ответа на задание шага 5.\n",
    "print(f\"MSE первой модели равно: {int(error_1)}\")\n",
    "print(f\"MSE второй модели равно: {int(error_2)}\")"
   ]
  },
  {
   "cell_type": "markdown",
   "id": "f1d70801",
   "metadata": {
    "id": "_AuLIFkJ9sjQ"
   },
   "source": [
    "Видно, что у MSE достаточно большой порядок. Как мы и говорили, глазам куда будет приятнее, если мы будем считать **RMSE**:\n",
    "\n",
    "$$\n",
    "RMSE = \\sqrt{MSE} = \\sqrt{\\frac{1}{n} \\sum_i^n (a(x_i)-y_i)^2}\n",
    "$$"
   ]
  },
  {
   "cell_type": "code",
   "execution_count": null,
   "id": "18168988",
   "metadata": {
    "id": "2VsDSCtz9sjS"
   },
   "outputs": [],
   "source": [
    "### Your code is here\n",
    "error_1 = error_1**0.5\n",
    "error_2 = error_2**0.5"
   ]
  },
  {
   "cell_type": "code",
   "execution_count": null,
   "id": "cf657807",
   "metadata": {
    "id": "uefqnRqk9sjS"
   },
   "outputs": [],
   "source": [
    "###Распечатайте значения RMSE для обеих моделей. Используйте эти значения для ответа на задание шага 6.\n",
    "\n",
    "print(f\"RMSE первой модели равно: {int(error_1)}\")\n",
    "print(f\"RMSE второй модели равно: {int(error_2)}\")"
   ]
  },
  {
   "cell_type": "markdown",
   "id": "2c1843f3",
   "metadata": {
    "id": "_4jKIu679sjT"
   },
   "source": [
    "Что можете сказать про модели первого и второго гнома? Чья оказалась лучше с точки зрения **MSE**? Давайте теперь замерим значения средней абсолютной ошибки, то есть **MAE**:\n",
    "\n",
    "$$\n",
    "MAE = \\frac{1}{n} \\sum_i^n |a(x_i)-y_i|\n",
    "$$\n",
    "\n",
    "Рассчитайте MAE для обеих моделей."
   ]
  },
  {
   "cell_type": "code",
   "execution_count": null,
   "id": "f8da4c80",
   "metadata": {
    "id": "Y8smKMFb9sjU"
   },
   "outputs": [],
   "source": [
    "### Your code is here\n",
    "absolute_error_1 = abs(df['trip_duration'] - df['prediction_1']).mean()\n",
    "absolute_error_2 = abs(df['trip_duration'] - df['prediction_2']).mean()"
   ]
  },
  {
   "cell_type": "code",
   "execution_count": null,
   "id": "dd8b66d9",
   "metadata": {
    "id": "JVmfwcBR9sjU"
   },
   "outputs": [],
   "source": [
    "###Распечатайте значения MAE для обеих моделей. Используйте эти значения для ответа на задание шага 7.\n",
    "print(f\"MAE первой модели равно: {int(absolute_error_1)}\")\n",
    "print(f\"MAE второй модели равно: {int(absolute_error_2)}\")"
   ]
  },
  {
   "cell_type": "markdown",
   "id": "52c0b0a4",
   "metadata": {
    "id": "4cT9-FyD9sjV"
   },
   "source": [
    "Если бы Вас попросили выбрать лучшую модель среди предложенных, на какой Вы бы остановились? Если брать за финальную метрику **MAE**, то поменяли бы Вы решение?\n",
    "\n",
    "Конечно! Мы наблюдаем ту самую ситуацию, когда, имея 2 разные модели с разными предсказаниями, финальный выбор однозначно сделать нельзя, например, сказав *\"Первая модель в среднем и в общем лучше второй!\"*. **Нет!** Все зависит от формы ошибки, которую мы выбираем. Иными словами, от вида той самой функции, которая наказывает наши модели и замеряет качество их прогнозов.\n",
    "\n",
    "Ситуация, когда **MAE** и **MSE**, выбирая между 2-х,  указывают на разные модели, знакома нам еще из лекции. \n",
    "\n",
    "Такое может происходить, когда в одной из моделей ошибка, в среднем, независимо от порядка чисел, чуть-чуть лучше, чем во второй. Но при этом если первая модель и ошибается, то куда суровее второй. \n",
    "\n",
    "Представьте: Петя и Миша играют в дартс. Петя в 9/10 случаев попадает в яблочко, но каждый 10-ый раз кидает дротик в потолок. Миша же, хоть и не так часто забрасывает в центр (всего 6/10), но при этом, оставшиеся 4 попытки реализует не совсем фатально: попадает всего-лишь немного дальше яблочка. \n",
    "\n",
    "В таком выдуманном сценарии Петя будет лучше с точки зрения **MAE**, а Миша - с точки зрения **MSE**, так как не допускает фатальных ошибок, хоть и в среднем набирает меньше очков. \n",
    "\n",
    "Давайте убедимся в том, что фатальных ошибок у второй модели больше. \n",
    "\n",
    "Посчитайте, в скольки случаях предсказания отклоняются от ответа более, чем на **500**, для первой и второй моделей!\n",
    "\n",
    "Назовите переменные *counter_1* и *counter_2*"
   ]
  },
  {
   "cell_type": "code",
   "execution_count": null,
   "id": "cc69f2d1",
   "metadata": {
    "id": "wOwMclmm9sjV"
   },
   "outputs": [],
   "source": [
    "### Your code is here\n",
    "counter_1 = (abs(df['trip_duration'] - df['prediction_1']) >= 500).sum()\n",
    "counter_2 = (abs(df['trip_duration'] - df['prediction_2']) >= 500).sum()"
   ]
  },
  {
   "cell_type": "code",
   "execution_count": null,
   "id": "0c085ab0",
   "metadata": {
    "id": "D9Q7WLOO9sjV"
   },
   "outputs": [],
   "source": [
    "###Распечатайте значения для обеих моделей. Используйте эти значения для ответа на задание шага 8.\n",
    "print(f\"Количество отклонений >= 500 от верного ответа для первой модели равно: {counter_1}\")\n",
    "print(f\"Количество отклонений >= 500 от верного ответа для второй модели равно: {counter_2}\")"
   ]
  },
  {
   "cell_type": "markdown",
   "id": "e84b5dfd-0fc6-4817-aa45-7350824b86fa",
   "metadata": {
    "id": "hn1-bXxK9sjV"
   },
   "source": [
    "**Несимметричные метрики**\n",
    "\n",
    "Зачастую, чтобы выбрать среди всего многообразия моделей, мы можем использовать несимметричные метрики. \n",
    "\n",
    "**MSE** и **MAE** относятся к симметричным. Они одинаково наказывают модель как за перепредсказание, так и за недопредсказание. Ошибки *+2* и *-2* переводятся **MSE** и **MAE** в одинаковую меру: **4** в первом случае и **2** во втором.\n",
    "\n",
    "В действительности же, можно придумать целый ряд задач, когда лучше выбирать несимметричную метрику.\n",
    "\n",
    "Представьте, что мы - дистрибьютор инсулина, и нам нужно построить модель, которая оптимизирует поставки. В таком случае кажется, что поставить лекарства на 2 единицы больше и на 2 единицы меньше - совершенно разные сценарии и разная интерпретация катастрофичности ошибки. \n",
    "\n",
    "В первом случае мы можем потерять немного прибыли, а во втором - лишить пациента жизненно важного лекарства. Поэтому хотелось бы научиться еще и по-разному оценивать *недо- и перепредсказания*. Для этого и используют несимметричные метрики! Одну из них предлагаю Вам посчитать ниже."
   ]
  },
  {
   "cell_type": "markdown",
   "id": "154d4f3a",
   "metadata": {
    "id": "q5y4RARv9sjW"
   },
   "source": [
    "Рассчитайте **RMSLE**. Придумайте, как проверить характер несимметричности данной метрики: за что она наказывает больше - за перепредсказания или за недопредсказания? Это нужно будет в тестовом теоретическом задании.\n",
    "\n",
    "$$\n",
    "\\text{RMSLE}(X, y, a) = \\sqrt{\\frac{1}{\\ell}\\sum_{i=1}^{\\ell} \\big(\\log{(y_i + 1)} - \\log{(a(x_i) + 1)}\\big)^2}\n",
    "$$\n",
    "\n",
    "Для взятия логарифма используйте библиотеку **math**\n",
    "\n",
    "P.S. Очевидно, что для некоторых отрицательных предсказаний, формула не будет работать, так как логарифм от отрицательных значений взять нельзя. Поэтому давайте подкорректируем наши прогнозы: все отрицательные числа переведем в нули (лучше уж в нашей задаче предсказать *ноль секунд*, чем *минус 100 секунд*)\n",
    "\n",
    "Переменные с метриками назовите *rmsle_1*, *rmsle_2*. Округлите их до 3 знаков после точки."
   ]
  },
  {
   "cell_type": "code",
   "execution_count": null,
   "id": "b0d96266",
   "metadata": {
    "id": "Ze18m7x69sjW"
   },
   "outputs": [],
   "source": [
    "### Замените все отрицательные предсказания на 0\n",
    "### Your code is here\n",
    "df.loc[df['prediction_1'] < 0, 'prediction_1'] = 0\n",
    "df.loc[df['prediction_2'] < 0, 'prediction_2'] = 0"
   ]
  },
  {
   "cell_type": "code",
   "execution_count": null,
   "id": "9c4c2983",
   "metadata": {
    "id": "14Z6JTog9sjX"
   },
   "outputs": [],
   "source": [
    "from math import log\n",
    "\n",
    "### Your code is here\n",
    "diff_1 = 0\n",
    "diff_2 = 0\n",
    "\n",
    "n = len(df['prediction_1'])\n",
    "for i in range(n):\n",
    "    diff_1 += ((log(df['prediction_1'][i] + 1) - log(df['trip_duration'][i] + 1)) ** 2)\n",
    "    diff_2 += ((log(df['prediction_2'][i] + 1) - log(df['trip_duration'][i] + 1)) ** 2)\n",
    "    \n",
    "rmsle_1 = (diff_1 / n) ** 0.5\n",
    "rmsle_2 = (diff_2 / n) ** 0.5"
   ]
  },
  {
   "cell_type": "code",
   "execution_count": null,
   "id": "8f1515e3",
   "metadata": {
    "id": "A_IA-u2d9sjX"
   },
   "outputs": [],
   "source": [
    "###Распечатайте значения для обеих моделей. Используйте эти значения для ответа на задание шага 9.\n",
    "print(f\"RMSLE первой модели равно: {rmsle_1}\")\n",
    "print(f\"RMSLE второй модели равно: {rmsle_2}\")"
   ]
  },
  {
   "cell_type": "markdown",
   "id": "60e2f294",
   "metadata": {
    "id": "AlimEbB_9sjX"
   },
   "source": [
    "Посчитайте, для какого количества объектов первая модель сделала перепредсказания и недопредсказания\n",
    "\n",
    "Аналогичный расчет проведите для первой модели и недопредсказания.\n",
    "\n",
    "P.S. оставьте колонку с предсказанием такой, какой она оказалась после замены отрицательных значений\n",
    "\n",
    "Счетчики перепредсказаний и недопредсказаний назовите *over_predicted_1* и *under_predicted_1*"
   ]
  },
  {
   "cell_type": "code",
   "execution_count": null,
   "id": "32eb3cdf",
   "metadata": {
    "id": "3JJUHCQU9sjY"
   },
   "outputs": [],
   "source": [
    "### Your code is here\n",
    "over_predicted_1 = len(df[df['prediction_1'] - df['trip_duration'] > 0])\n",
    "under_predicted_1 = len(df[df['prediction_1'] - df['trip_duration'] < 0])"
   ]
  },
  {
   "cell_type": "code",
   "execution_count": null,
   "id": "5747b890",
   "metadata": {
    "id": "2MwyPvvM9sjY"
   },
   "outputs": [],
   "source": [
    "###Распечатайте значения для обеих моделей. Используйте эти значения для ответа на задание шага 10.\n",
    "print(f\"Предсказания первой модели оказались больше действительных в {over_predicted_1} случаях\")\n",
    "print(f\"Предсказания первой модели оказались меньше действительных в {under_predicted_1} случаях\")"
   ]
  },
  {
   "cell_type": "markdown",
   "id": "5aa63950",
   "metadata": {
    "id": "YQ6Cds9a9sjY"
   },
   "source": [
    "Аналогично для второй модели\n",
    "\n",
    "\n",
    "Счетчики перепредсказаний и недопредсказаний назовите *over_predicted_2* и *under_predicted_2*"
   ]
  },
  {
   "cell_type": "code",
   "execution_count": null,
   "id": "d8812c69",
   "metadata": {
    "id": "xphLYA3C9sjY"
   },
   "outputs": [],
   "source": [
    "### Your code is here\n",
    "over_predicted_2 = len(df[df['prediction_2'] - df['trip_duration'] > 0])\n",
    "under_predicted_2 = len(df[df['prediction_2'] - df['trip_duration'] < 0])"
   ]
  },
  {
   "cell_type": "code",
   "execution_count": null,
   "id": "e865eb9d",
   "metadata": {
    "id": "x8ee6qxn9sjZ"
   },
   "outputs": [],
   "source": [
    "###Распечатайте значения для обеих моделей. Используйте эти значения для ответа на задание шага 11.\n",
    "print(f\"Предсказания второй модели оказались больше действительных в {over_predicted_2} случаях\")\n",
    "print(f\"Предсказания второй модели оказались меньше действительных в {under_predicted_2} случаях\")"
   ]
  },
  {
   "cell_type": "markdown",
   "id": "aca0c7f3",
   "metadata": {
    "id": "QfTRmevE9sjZ"
   },
   "source": [
    "Сравните две модели заново. Согласуется ли полученный результат с подсчетом **RMSLE** ранее?"
   ]
  }
 ],
 "metadata": {
  "colab": {
   "collapsed_sections": [],
   "name": "HW_2.ipynb",
   "provenance": []
  },
  "kernelspec": {
   "display_name": "Python 3 (ipykernel)",
   "language": "python",
   "name": "python3"
  },
  "language_info": {
   "codemirror_mode": {
    "name": "ipython",
    "version": 3
   },
   "file_extension": ".py",
   "mimetype": "text/x-python",
   "name": "python",
   "nbconvert_exporter": "python",
   "pygments_lexer": "ipython3",
   "version": "3.8.10"
  }
 },
 "nbformat": 4,
 "nbformat_minor": 5
}
